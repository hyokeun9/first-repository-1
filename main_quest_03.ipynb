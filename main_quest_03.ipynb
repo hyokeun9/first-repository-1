{
 "cells": [
  {
   "cell_type": "code",
   "execution_count": 1,
   "id": "b35c01d3",
   "metadata": {},
   "outputs": [],
   "source": [
    "import pandas as pd\n",
    "import numpy as np\n",
    "import matplotlib.pyplot as plt\n",
    "import seaborn as sns"
   ]
  },
  {
   "cell_type": "code",
   "execution_count": 2,
   "id": "b9fa72d8",
   "metadata": {},
   "outputs": [
    {
     "name": "stdout",
     "output_type": "stream",
     "text": [
      "Requirement already satisfied: kagglehub in c:\\users\\82107\\anaconda3\\lib\\site-packages (0.3.13)\n",
      "Requirement already satisfied: requests in c:\\users\\82107\\anaconda3\\lib\\site-packages (from kagglehub) (2.28.1)\n",
      "Requirement already satisfied: tqdm in c:\\users\\82107\\anaconda3\\lib\\site-packages (from kagglehub) (4.64.1)\n",
      "Requirement already satisfied: packaging in c:\\users\\82107\\anaconda3\\lib\\site-packages (from kagglehub) (21.3)\n",
      "Requirement already satisfied: pyyaml in c:\\users\\82107\\anaconda3\\lib\\site-packages (from kagglehub) (6.0)\n",
      "Requirement already satisfied: pyparsing!=3.0.5,>=2.0.2 in c:\\users\\82107\\anaconda3\\lib\\site-packages (from packaging->kagglehub) (3.0.9)\n",
      "Requirement already satisfied: idna<4,>=2.5 in c:\\users\\82107\\anaconda3\\lib\\site-packages (from requests->kagglehub) (3.3)\n",
      "Requirement already satisfied: certifi>=2017.4.17 in c:\\users\\82107\\anaconda3\\lib\\site-packages (from requests->kagglehub) (2022.9.14)\n",
      "Requirement already satisfied: urllib3<1.27,>=1.21.1 in c:\\users\\82107\\anaconda3\\lib\\site-packages (from requests->kagglehub) (1.26.11)\n",
      "Requirement already satisfied: charset-normalizer<3,>=2 in c:\\users\\82107\\anaconda3\\lib\\site-packages (from requests->kagglehub) (2.0.4)\n",
      "Requirement already satisfied: colorama in c:\\users\\82107\\anaconda3\\lib\\site-packages (from tqdm->kagglehub) (0.4.5)\n"
     ]
    }
   ],
   "source": [
    "!pip install kagglehub"
   ]
  },
  {
   "cell_type": "code",
   "execution_count": 3,
   "id": "198386d5",
   "metadata": {},
   "outputs": [
    {
     "name": "stdout",
     "output_type": "stream",
     "text": [
      "Downloading from https://www.kaggle.com/api/v1/datasets/download/tunguz/online-retail?dataset_version_number=1...\n"
     ]
    },
    {
     "name": "stderr",
     "output_type": "stream",
     "text": [
      "100%|█████████████████████████████████████████████████████████████████████████████| 7.13M/7.13M [00:01<00:00, 6.38MB/s]"
     ]
    },
    {
     "name": "stdout",
     "output_type": "stream",
     "text": [
      "Extracting files...\n"
     ]
    },
    {
     "name": "stderr",
     "output_type": "stream",
     "text": [
      "\n"
     ]
    },
    {
     "name": "stdout",
     "output_type": "stream",
     "text": [
      "Path to dataset files: C:\\Users\\82107\\.cache\\kagglehub\\datasets\\tunguz\\online-retail\\versions\\1\n"
     ]
    },
    {
     "data": {
      "text/plain": [
       "(541909, 8)"
      ]
     },
     "execution_count": 3,
     "metadata": {},
     "output_type": "execute_result"
    }
   ],
   "source": [
    "import kagglehub\n",
    "import os\n",
    "\n",
    "# Download latest version\n",
    "path = kagglehub.dataset_download(\"tunguz/online-retail\")\n",
    "\n",
    "print(\"Path to dataset files:\", path)\n",
    "df = pd.read_csv(path + '/' + os.listdir(path)[0], encoding='latin1')\n",
    "df.shape"
   ]
  },
  {
   "cell_type": "code",
   "execution_count": 4,
   "id": "33e5c549",
   "metadata": {},
   "outputs": [
    {
     "data": {
      "text/html": [
       "<div>\n",
       "<style scoped>\n",
       "    .dataframe tbody tr th:only-of-type {\n",
       "        vertical-align: middle;\n",
       "    }\n",
       "\n",
       "    .dataframe tbody tr th {\n",
       "        vertical-align: top;\n",
       "    }\n",
       "\n",
       "    .dataframe thead th {\n",
       "        text-align: right;\n",
       "    }\n",
       "</style>\n",
       "<table border=\"1\" class=\"dataframe\">\n",
       "  <thead>\n",
       "    <tr style=\"text-align: right;\">\n",
       "      <th></th>\n",
       "      <th>InvoiceNo</th>\n",
       "      <th>StockCode</th>\n",
       "      <th>Description</th>\n",
       "      <th>Quantity</th>\n",
       "      <th>InvoiceDate</th>\n",
       "      <th>UnitPrice</th>\n",
       "      <th>CustomerID</th>\n",
       "      <th>Country</th>\n",
       "    </tr>\n",
       "  </thead>\n",
       "  <tbody>\n",
       "    <tr>\n",
       "      <th>0</th>\n",
       "      <td>536365</td>\n",
       "      <td>85123A</td>\n",
       "      <td>WHITE HANGING HEART T-LIGHT HOLDER</td>\n",
       "      <td>6</td>\n",
       "      <td>12/1/10 8:26</td>\n",
       "      <td>2.55</td>\n",
       "      <td>17850.0</td>\n",
       "      <td>United Kingdom</td>\n",
       "    </tr>\n",
       "    <tr>\n",
       "      <th>1</th>\n",
       "      <td>536365</td>\n",
       "      <td>71053</td>\n",
       "      <td>WHITE METAL LANTERN</td>\n",
       "      <td>6</td>\n",
       "      <td>12/1/10 8:26</td>\n",
       "      <td>3.39</td>\n",
       "      <td>17850.0</td>\n",
       "      <td>United Kingdom</td>\n",
       "    </tr>\n",
       "    <tr>\n",
       "      <th>2</th>\n",
       "      <td>536365</td>\n",
       "      <td>84406B</td>\n",
       "      <td>CREAM CUPID HEARTS COAT HANGER</td>\n",
       "      <td>8</td>\n",
       "      <td>12/1/10 8:26</td>\n",
       "      <td>2.75</td>\n",
       "      <td>17850.0</td>\n",
       "      <td>United Kingdom</td>\n",
       "    </tr>\n",
       "    <tr>\n",
       "      <th>3</th>\n",
       "      <td>536365</td>\n",
       "      <td>84029G</td>\n",
       "      <td>KNITTED UNION FLAG HOT WATER BOTTLE</td>\n",
       "      <td>6</td>\n",
       "      <td>12/1/10 8:26</td>\n",
       "      <td>3.39</td>\n",
       "      <td>17850.0</td>\n",
       "      <td>United Kingdom</td>\n",
       "    </tr>\n",
       "    <tr>\n",
       "      <th>4</th>\n",
       "      <td>536365</td>\n",
       "      <td>84029E</td>\n",
       "      <td>RED WOOLLY HOTTIE WHITE HEART.</td>\n",
       "      <td>6</td>\n",
       "      <td>12/1/10 8:26</td>\n",
       "      <td>3.39</td>\n",
       "      <td>17850.0</td>\n",
       "      <td>United Kingdom</td>\n",
       "    </tr>\n",
       "  </tbody>\n",
       "</table>\n",
       "</div>"
      ],
      "text/plain": [
       "  InvoiceNo StockCode                          Description  Quantity  \\\n",
       "0    536365    85123A   WHITE HANGING HEART T-LIGHT HOLDER         6   \n",
       "1    536365     71053                  WHITE METAL LANTERN         6   \n",
       "2    536365    84406B       CREAM CUPID HEARTS COAT HANGER         8   \n",
       "3    536365    84029G  KNITTED UNION FLAG HOT WATER BOTTLE         6   \n",
       "4    536365    84029E       RED WOOLLY HOTTIE WHITE HEART.         6   \n",
       "\n",
       "    InvoiceDate  UnitPrice  CustomerID         Country  \n",
       "0  12/1/10 8:26       2.55     17850.0  United Kingdom  \n",
       "1  12/1/10 8:26       3.39     17850.0  United Kingdom  \n",
       "2  12/1/10 8:26       2.75     17850.0  United Kingdom  \n",
       "3  12/1/10 8:26       3.39     17850.0  United Kingdom  \n",
       "4  12/1/10 8:26       3.39     17850.0  United Kingdom  "
      ]
     },
     "execution_count": 4,
     "metadata": {},
     "output_type": "execute_result"
    }
   ],
   "source": [
    "df.head()"
   ]
  },
  {
   "cell_type": "code",
   "execution_count": 5,
   "id": "15feb9f6",
   "metadata": {
    "scrolled": true
   },
   "outputs": [
    {
     "name": "stdout",
     "output_type": "stream",
     "text": [
      "<class 'pandas.core.frame.DataFrame'>\n",
      "RangeIndex: 541909 entries, 0 to 541908\n",
      "Data columns (total 8 columns):\n",
      " #   Column       Non-Null Count   Dtype  \n",
      "---  ------       --------------   -----  \n",
      " 0   InvoiceNo    541909 non-null  object \n",
      " 1   StockCode    541909 non-null  object \n",
      " 2   Description  540455 non-null  object \n",
      " 3   Quantity     541909 non-null  int64  \n",
      " 4   InvoiceDate  541909 non-null  object \n",
      " 5   UnitPrice    541909 non-null  float64\n",
      " 6   CustomerID   406829 non-null  float64\n",
      " 7   Country      541909 non-null  object \n",
      "dtypes: float64(2), int64(1), object(5)\n",
      "memory usage: 33.1+ MB\n"
     ]
    }
   ],
   "source": [
    "df.info()"
   ]
  },
  {
   "cell_type": "code",
   "execution_count": 6,
   "id": "dda42101",
   "metadata": {},
   "outputs": [],
   "source": [
    "# 주문 가격 피쳐 생성\n",
    "df[\"TotalPrice\"] = df[\"Quantity\"] * df[\"UnitPrice\"]"
   ]
  },
  {
   "cell_type": "code",
   "execution_count": 7,
   "id": "27ee474a",
   "metadata": {},
   "outputs": [],
   "source": [
    "# 'InvoiceDate' 컬럼을 이용하여 주중과 주말을 구분\n",
    "df['InvoiceDate'] = pd.to_datetime(df['InvoiceDate'])\n",
    "df['DayOfWeek'] = df['InvoiceDate'].dt.dayofweek\n",
    "\n",
    "# 'InvoiceDate' 컬럼 이용하여 판매 월 추출\n",
    "df[\"InvoiceDate\"] = pd.to_datetime(df[\"InvoiceDate\"].astype(str))\n",
    "df[\"InvoiceMonth\"] = df[\"InvoiceDate\"].dt.month"
   ]
  },
  {
   "cell_type": "code",
   "execution_count": 8,
   "id": "200a54d7",
   "metadata": {},
   "outputs": [
    {
     "data": {
      "text/html": [
       "<div>\n",
       "<style scoped>\n",
       "    .dataframe tbody tr th:only-of-type {\n",
       "        vertical-align: middle;\n",
       "    }\n",
       "\n",
       "    .dataframe tbody tr th {\n",
       "        vertical-align: top;\n",
       "    }\n",
       "\n",
       "    .dataframe thead th {\n",
       "        text-align: right;\n",
       "    }\n",
       "</style>\n",
       "<table border=\"1\" class=\"dataframe\">\n",
       "  <thead>\n",
       "    <tr style=\"text-align: right;\">\n",
       "      <th></th>\n",
       "      <th>InvoiceNo</th>\n",
       "      <th>StockCode</th>\n",
       "      <th>Description</th>\n",
       "      <th>Quantity</th>\n",
       "      <th>InvoiceDate</th>\n",
       "      <th>UnitPrice</th>\n",
       "      <th>CustomerID</th>\n",
       "      <th>Country</th>\n",
       "      <th>TotalPrice</th>\n",
       "      <th>DayOfWeek</th>\n",
       "      <th>InvoiceMonth</th>\n",
       "    </tr>\n",
       "  </thead>\n",
       "  <tbody>\n",
       "    <tr>\n",
       "      <th>0</th>\n",
       "      <td>536365</td>\n",
       "      <td>85123A</td>\n",
       "      <td>WHITE HANGING HEART T-LIGHT HOLDER</td>\n",
       "      <td>6</td>\n",
       "      <td>2010-12-01 08:26:00</td>\n",
       "      <td>2.55</td>\n",
       "      <td>17850.0</td>\n",
       "      <td>United Kingdom</td>\n",
       "      <td>15.30</td>\n",
       "      <td>2</td>\n",
       "      <td>12</td>\n",
       "    </tr>\n",
       "    <tr>\n",
       "      <th>1</th>\n",
       "      <td>536365</td>\n",
       "      <td>71053</td>\n",
       "      <td>WHITE METAL LANTERN</td>\n",
       "      <td>6</td>\n",
       "      <td>2010-12-01 08:26:00</td>\n",
       "      <td>3.39</td>\n",
       "      <td>17850.0</td>\n",
       "      <td>United Kingdom</td>\n",
       "      <td>20.34</td>\n",
       "      <td>2</td>\n",
       "      <td>12</td>\n",
       "    </tr>\n",
       "    <tr>\n",
       "      <th>2</th>\n",
       "      <td>536365</td>\n",
       "      <td>84406B</td>\n",
       "      <td>CREAM CUPID HEARTS COAT HANGER</td>\n",
       "      <td>8</td>\n",
       "      <td>2010-12-01 08:26:00</td>\n",
       "      <td>2.75</td>\n",
       "      <td>17850.0</td>\n",
       "      <td>United Kingdom</td>\n",
       "      <td>22.00</td>\n",
       "      <td>2</td>\n",
       "      <td>12</td>\n",
       "    </tr>\n",
       "    <tr>\n",
       "      <th>3</th>\n",
       "      <td>536365</td>\n",
       "      <td>84029G</td>\n",
       "      <td>KNITTED UNION FLAG HOT WATER BOTTLE</td>\n",
       "      <td>6</td>\n",
       "      <td>2010-12-01 08:26:00</td>\n",
       "      <td>3.39</td>\n",
       "      <td>17850.0</td>\n",
       "      <td>United Kingdom</td>\n",
       "      <td>20.34</td>\n",
       "      <td>2</td>\n",
       "      <td>12</td>\n",
       "    </tr>\n",
       "    <tr>\n",
       "      <th>4</th>\n",
       "      <td>536365</td>\n",
       "      <td>84029E</td>\n",
       "      <td>RED WOOLLY HOTTIE WHITE HEART.</td>\n",
       "      <td>6</td>\n",
       "      <td>2010-12-01 08:26:00</td>\n",
       "      <td>3.39</td>\n",
       "      <td>17850.0</td>\n",
       "      <td>United Kingdom</td>\n",
       "      <td>20.34</td>\n",
       "      <td>2</td>\n",
       "      <td>12</td>\n",
       "    </tr>\n",
       "    <tr>\n",
       "      <th>...</th>\n",
       "      <td>...</td>\n",
       "      <td>...</td>\n",
       "      <td>...</td>\n",
       "      <td>...</td>\n",
       "      <td>...</td>\n",
       "      <td>...</td>\n",
       "      <td>...</td>\n",
       "      <td>...</td>\n",
       "      <td>...</td>\n",
       "      <td>...</td>\n",
       "      <td>...</td>\n",
       "    </tr>\n",
       "    <tr>\n",
       "      <th>541904</th>\n",
       "      <td>581587</td>\n",
       "      <td>22613</td>\n",
       "      <td>PACK OF 20 SPACEBOY NAPKINS</td>\n",
       "      <td>12</td>\n",
       "      <td>2011-12-09 12:50:00</td>\n",
       "      <td>0.85</td>\n",
       "      <td>12680.0</td>\n",
       "      <td>France</td>\n",
       "      <td>10.20</td>\n",
       "      <td>4</td>\n",
       "      <td>12</td>\n",
       "    </tr>\n",
       "    <tr>\n",
       "      <th>541905</th>\n",
       "      <td>581587</td>\n",
       "      <td>22899</td>\n",
       "      <td>CHILDREN'S APRON DOLLY GIRL</td>\n",
       "      <td>6</td>\n",
       "      <td>2011-12-09 12:50:00</td>\n",
       "      <td>2.10</td>\n",
       "      <td>12680.0</td>\n",
       "      <td>France</td>\n",
       "      <td>12.60</td>\n",
       "      <td>4</td>\n",
       "      <td>12</td>\n",
       "    </tr>\n",
       "    <tr>\n",
       "      <th>541906</th>\n",
       "      <td>581587</td>\n",
       "      <td>23254</td>\n",
       "      <td>CHILDRENS CUTLERY DOLLY GIRL</td>\n",
       "      <td>4</td>\n",
       "      <td>2011-12-09 12:50:00</td>\n",
       "      <td>4.15</td>\n",
       "      <td>12680.0</td>\n",
       "      <td>France</td>\n",
       "      <td>16.60</td>\n",
       "      <td>4</td>\n",
       "      <td>12</td>\n",
       "    </tr>\n",
       "    <tr>\n",
       "      <th>541907</th>\n",
       "      <td>581587</td>\n",
       "      <td>23255</td>\n",
       "      <td>CHILDRENS CUTLERY CIRCUS PARADE</td>\n",
       "      <td>4</td>\n",
       "      <td>2011-12-09 12:50:00</td>\n",
       "      <td>4.15</td>\n",
       "      <td>12680.0</td>\n",
       "      <td>France</td>\n",
       "      <td>16.60</td>\n",
       "      <td>4</td>\n",
       "      <td>12</td>\n",
       "    </tr>\n",
       "    <tr>\n",
       "      <th>541908</th>\n",
       "      <td>581587</td>\n",
       "      <td>22138</td>\n",
       "      <td>BAKING SET 9 PIECE RETROSPOT</td>\n",
       "      <td>3</td>\n",
       "      <td>2011-12-09 12:50:00</td>\n",
       "      <td>4.95</td>\n",
       "      <td>12680.0</td>\n",
       "      <td>France</td>\n",
       "      <td>14.85</td>\n",
       "      <td>4</td>\n",
       "      <td>12</td>\n",
       "    </tr>\n",
       "  </tbody>\n",
       "</table>\n",
       "<p>541909 rows × 11 columns</p>\n",
       "</div>"
      ],
      "text/plain": [
       "       InvoiceNo StockCode                          Description  Quantity  \\\n",
       "0         536365    85123A   WHITE HANGING HEART T-LIGHT HOLDER         6   \n",
       "1         536365     71053                  WHITE METAL LANTERN         6   \n",
       "2         536365    84406B       CREAM CUPID HEARTS COAT HANGER         8   \n",
       "3         536365    84029G  KNITTED UNION FLAG HOT WATER BOTTLE         6   \n",
       "4         536365    84029E       RED WOOLLY HOTTIE WHITE HEART.         6   \n",
       "...          ...       ...                                  ...       ...   \n",
       "541904    581587     22613          PACK OF 20 SPACEBOY NAPKINS        12   \n",
       "541905    581587     22899         CHILDREN'S APRON DOLLY GIRL          6   \n",
       "541906    581587     23254        CHILDRENS CUTLERY DOLLY GIRL          4   \n",
       "541907    581587     23255      CHILDRENS CUTLERY CIRCUS PARADE         4   \n",
       "541908    581587     22138        BAKING SET 9 PIECE RETROSPOT          3   \n",
       "\n",
       "               InvoiceDate  UnitPrice  CustomerID         Country  TotalPrice  \\\n",
       "0      2010-12-01 08:26:00       2.55     17850.0  United Kingdom       15.30   \n",
       "1      2010-12-01 08:26:00       3.39     17850.0  United Kingdom       20.34   \n",
       "2      2010-12-01 08:26:00       2.75     17850.0  United Kingdom       22.00   \n",
       "3      2010-12-01 08:26:00       3.39     17850.0  United Kingdom       20.34   \n",
       "4      2010-12-01 08:26:00       3.39     17850.0  United Kingdom       20.34   \n",
       "...                    ...        ...         ...             ...         ...   \n",
       "541904 2011-12-09 12:50:00       0.85     12680.0          France       10.20   \n",
       "541905 2011-12-09 12:50:00       2.10     12680.0          France       12.60   \n",
       "541906 2011-12-09 12:50:00       4.15     12680.0          France       16.60   \n",
       "541907 2011-12-09 12:50:00       4.15     12680.0          France       16.60   \n",
       "541908 2011-12-09 12:50:00       4.95     12680.0          France       14.85   \n",
       "\n",
       "        DayOfWeek  InvoiceMonth  \n",
       "0               2            12  \n",
       "1               2            12  \n",
       "2               2            12  \n",
       "3               2            12  \n",
       "4               2            12  \n",
       "...           ...           ...  \n",
       "541904          4            12  \n",
       "541905          4            12  \n",
       "541906          4            12  \n",
       "541907          4            12  \n",
       "541908          4            12  \n",
       "\n",
       "[541909 rows x 11 columns]"
      ]
     },
     "execution_count": 8,
     "metadata": {},
     "output_type": "execute_result"
    }
   ],
   "source": [
    "df"
   ]
  },
  {
   "cell_type": "markdown",
   "id": "60160ee8",
   "metadata": {},
   "source": [
    "문제1. 모집단과 표본 집단의 TotalPrice를 비교해 주세요.\n",
    "\n",
    "1-1 데이터셋에서 무작위로 1000개의 표본을 추출하세요."
   ]
  },
  {
   "cell_type": "code",
   "execution_count": 9,
   "id": "354b6fa6",
   "metadata": {},
   "outputs": [],
   "source": [
    "# 1-1 무작위로 1000개 표본 추출\n",
    "np.random.seed(42)\n",
    "sample = df.sample(n=1000)"
   ]
  },
  {
   "cell_type": "markdown",
   "id": "d3f8bd6d",
   "metadata": {},
   "source": [
    "1-2 추출된 표본과 전체 데이터셋의 'TotalPrice'에 대해 평균과 표준편차를 비교해주세요.\n"
   ]
  },
  {
   "cell_type": "code",
   "execution_count": 13,
   "id": "80e2ba4c",
   "metadata": {},
   "outputs": [
    {
     "name": "stdout",
     "output_type": "stream",
     "text": [
      "모집단 평균: 17.99, 표본 평균: 16.83\n",
      "모집단 표준편차: 378.81, 표본 표준편차: 64.47\n",
      "Levene p값: 0.79088 → 등분산 가정 가능\n",
      "t=0.096, p=0.92314\n"
     ]
    }
   ],
   "source": [
    "# 1-2 평균과 표준편차 비교\n",
    "from scipy import stats\n",
    "\n",
    "# 모집단 / 표본 평균과 표준편차\n",
    "pop_mean = df[\"TotalPrice\"].mean()\n",
    "pop_std = df[\"TotalPrice\"].std()\n",
    "samp_mean = sample[\"TotalPrice\"].mean()\n",
    "samp_std = sample[\"TotalPrice\"].std()\n",
    "\n",
    "print(f\"모집단 평균: {pop_mean:.2f}, 표본 평균: {samp_mean:.2f}\")\n",
    "print(f\"모집단 표준편차: {pop_std:.2f}, 표본 표준편차: {samp_std:.2f}\")\n",
    "\n",
    "# 등분산성 검정 (Levene test)\n",
    "levene_stat, levene_p = stats.levene(df[\"TotalPrice\"], sample[\"TotalPrice\"])\n",
    "equal_var = True if levene_p > 0.05 else False\n",
    "print(f\"Levene p값: {levene_p:.5f} → 등분산 {'가정 가능' if equal_var else '가정 불가'}\")\n",
    "\n",
    "# 독립표본 t검정\n",
    "\n",
    "t_stat, p_val = stats.ttest_ind(df[\"TotalPrice\"], sample[\"TotalPrice\"], equal_var=equal_var)\n",
    "print(f\"t={t_stat:.3f}, p={p_val:.5f}\")"
   ]
  },
  {
   "cell_type": "markdown",
   "id": "4fd7e142",
   "metadata": {},
   "source": [
    "귀무가설: 모집단과 표본의 평균은 같다.\n",
    "대립가설: 모집단과 표본의 평균은 다르다.\n",
    "\n",
    "p=0.92314\n",
    "p-value ≥ 0.05 → 귀무가설 채택 → 평균 차이가 통계적으로 유의하지 않음.\n",
    "\n",
    "→ 표본이 모집단을 잘 대표한다고 볼 수 있음."
   ]
  },
  {
   "cell_type": "markdown",
   "id": "c1c0c8a2",
   "metadata": {},
   "source": [
    "1-3 중심극한정리를 사용해 모집단과 표본의 차이를 설명해주세요."
   ]
  },
  {
   "cell_type": "code",
   "execution_count": 14,
   "id": "109f41f1",
   "metadata": {},
   "outputs": [
    {
     "data": {
      "image/png": "[encoded data removed]",
      "text/plain": [
       "<Figure size 800x500 with 1 Axes>"
      ]
     },
     "metadata": {},
     "output_type": "display_data"
    },
    {
     "name": "stdout",
     "output_type": "stream",
     "text": [
      "표본평균 분포의 평균: 17.64, 표준편차: 11.95\n"
     ]
    }
   ],
   "source": [
    "# 중심극한정리 확인: 1000개 표본평균을 여러 번 구해 분포 비교\n",
    "np.random.seed(42)\n",
    "means = [df[\"TotalPrice\"].sample(n=1000, replace=False).mean() for _ in range(1000)]\n",
    "\n",
    "plt.figure(figsize=(8,5))\n",
    "sns.histplot(means, kde=True, color='skyblue')\n",
    "plt.axvline(df[\"TotalPrice\"].mean(), color='red', linestyle='--', label='Population Mean')\n",
    "plt.title(\"Sampling Distribution of Sample Means (n=1000)\")\n",
    "plt.xlabel(\"Sample Mean of TotalPrice\")\n",
    "plt.legend()\n",
    "plt.show()\n",
    "\n",
    "print(f\"표본평균 분포의 평균: {np.mean(means):.2f}, 표준편차: {np.std(means):.2f}\")\n"
   ]
  },
  {
   "cell_type": "markdown",
   "id": "48a32fc0",
   "metadata": {},
   "source": [
    "중심극한정리는“모집단의 분포가 어떻든, 충분히 큰 표본을 여러 번 뽑으면 그 표본평균의 분포는 정규분포에 가까워진다.”\n",
    "\n",
    "표본평균 분포의 평균이 17.64 모집단의 평균에 근접했고 이는 표본평균들이 전체적으로 모집단의 중심값과 비슷한 위치에 있다는 뜻\n",
    "표본 표준편차가 11.95 으로 모집단의 표준편차보다 작은 이유는 표본을 여러번 뽑을수록 평균들이 모집단 중심으로 몰려 변동이 줄어들기 때문 "
   ]
  },
  {
   "cell_type": "markdown",
   "id": "75e4f5d7",
   "metadata": {},
   "source": [
    " "
   ]
  },
  {
   "cell_type": "markdown",
   "id": "5a625692",
   "metadata": {},
   "source": [
    "문제2. 주문이 가장 많은 상위 두 국가의 'TotalPrice' 평균에 차이가 있는지 검증하세요.\n"
   ]
  },
  {
   "cell_type": "markdown",
   "id": "4e7e504e",
   "metadata": {},
   "source": [
    "2-1 'Country' 변수를 바탕으로 주문이 가장 많은 상위 두 국가를 찾으세요."
   ]
  },
  {
   "cell_type": "code",
   "execution_count": 16,
   "id": "af89205e",
   "metadata": {},
   "outputs": [
    {
     "name": "stdout",
     "output_type": "stream",
     "text": [
      "United Kingdom    495478\n",
      "Germany             9495\n",
      "Name: Country, dtype: int64\n",
      "상위 두 국가: United Kingdom Germany\n"
     ]
    }
   ],
   "source": [
    "import pandas as pd\n",
    "\n",
    "# 국가별 주문 수 계산\n",
    "top_countries = df['Country'].value_counts().head(2)\n",
    "print(top_countries)\n",
    "\n",
    "# 상위 두 국가명 추출\n",
    "country1, country2 = top_countries.index[0], top_countries.index[1]\n",
    "print('상위 두 국가:', country1, country2)"
   ]
  },
  {
   "cell_type": "markdown",
   "id": "34957285",
   "metadata": {},
   "source": [
    "2-2 독립표본 t-검정을 사용하여 두 국가 간 'TotalPrice' 평균의 차이가 통계적으로 유의미한지 검증하세요."
   ]
  },
  {
   "cell_type": "code",
   "execution_count": 18,
   "id": "9bdd0a61",
   "metadata": {},
   "outputs": [
    {
     "name": "stdout",
     "output_type": "stream",
     "text": [
      "t 통계량: -1.816\n",
      "p-value: 0.06954\n"
     ]
    }
   ],
   "source": [
    "import numpy as np\n",
    "from scipy import stats\n",
    "\n",
    "# 각 국가에서 표본 1000개씩 무작위 추출\n",
    "np.random.seed(42)\n",
    "sample1 = df[df['Country'] == country1]['TotalPrice'].sample(1000, replace=False)\n",
    "sample2 = df[df['Country'] == country2]['TotalPrice'].sample(1000, replace=False)\n",
    "\n",
    "#독립표본 t검정\n",
    "t_stat, p_val = stats.ttest_ind(sample1, sample2, equal_var=False)\n",
    "\n",
    "print(f\"t 통계량: {t_stat:.3f}\")\n",
    "print(f\"p-value: {p_val:.5f}\")"
   ]
  },
  {
   "cell_type": "markdown",
   "id": "a6e2e14c",
   "metadata": {},
   "source": [
    "2-3 t-통계량과 p-값을 해석하여 결과를 설명하고, 1종 오류와 2종 오류의 개념을 적용하여 설명해주세요."
   ]
  },
  {
   "cell_type": "markdown",
   "id": "7ba75277",
   "metadata": {},
   "source": [
    "t 통계량이 -1.816로 음수라는것은 country2 즉 Germany의 평균 크기가 더 크다는 것을 나타냄\n",
    "p-value이 0.06954으로 유의수준 α = 0.05와 비교한다면\n",
    "0.06954 > 0.05 → 귀무가설을 채택\n",
    "두 국가의 TotalPrice 평균 차이는 통계적으로 유의하지 않다"
   ]
  },
  {
   "cell_type": "markdown",
   "id": "f1bb1155",
   "metadata": {},
   "source": [
    "1종의 오류: 실제로 두 국가 평균이 같은데, 차이가 있다고 잘못 결론\n",
    "2종의 오류: 실제로 두 국가 평균이 다른데, 차이가 없다고 결론\n",
    "\n",
    "1종의 오류는 p-value < 0.05일 때 발생할 수 있으므로 지금은 해당 없음\n",
    "2종의 오류는 p-value ≥ 0.05 → 귀무가설 채택 → 가능성 존재\n",
    "\n",
    "표본만 사용했으므로 실제 차이가 존재할 경우 이를 놓칠 가능성(2종 오류)은 존재함"
   ]
  },
  {
   "cell_type": "markdown",
   "id": "a6f3991c",
   "metadata": {},
   "source": [
    "\n",
    "\n"
   ]
  },
  {
   "cell_type": "markdown",
   "id": "248cf8ca",
   "metadata": {},
   "source": [
    "문제3. 주중, 주말에 따라서 발생하는 UnitPrice의 분포가 달라지는지 확인하세요.\n",
    "\n",
    "3-1 주중의 'UnitPrice'와 주말의 'UnitPrice'의 분포를 분석하기 위해 데이터의 중심경향치(평균, 중간값), 변산성(표준편차, 분산), 분위수를 계산하세요."
   ]
  },
  {
   "cell_type": "code",
   "execution_count": 19,
   "id": "c4fe0194",
   "metadata": {},
   "outputs": [
    {
     "name": "stdout",
     "output_type": "stream",
     "text": [
      "  IsWeekend      mean  median         std           var   q25   q50   q75\n",
      "0   Weekday  4.843425    2.10  103.032058  10615.604927  1.25  2.10  4.13\n",
      "1   Weekend  2.887824    1.85    7.959497     63.353599  1.25  1.85  3.75\n"
     ]
    }
   ],
   "source": [
    "import pandas as pd\n",
    "import numpy as np\n",
    "\n",
    "# 주중과 주말 구분 (0=월, ..., 6=일)\n",
    "# 일반적으로 0~4=주중, 5~6=주말\n",
    "df['IsWeekend'] = df['DayOfWeek'].apply(lambda x: 'Weekend' if x >= 5 else 'Weekday')\n",
    "\n",
    "# 그룹별 기술통계\n",
    "group_stats = df.groupby('IsWeekend')['UnitPrice'].agg(\n",
    "    mean='mean',\n",
    "    median='median',\n",
    "    std='std',\n",
    "    var='var',\n",
    "    q25=lambda x: np.percentile(x, 25),\n",
    "    q50=lambda x: np.percentile(x, 50),\n",
    "    q75=lambda x: np.percentile(x, 75)\n",
    ").reset_index()\n",
    "\n",
    "print(group_stats)\n"
   ]
  },
  {
   "cell_type": "markdown",
   "id": "c9b4991c",
   "metadata": {},
   "source": [
    "3-2 상자수염그림과 히스토그램을 그려 시각화를 통해 분포를 확인하고 데이터의 분포에 대해 설명해주세요."
   ]
  },
  {
   "cell_type": "code",
   "execution_count": 22,
   "id": "4e365fdd",
   "metadata": {
    "scrolled": true
   },
   "outputs": [
    {
     "data": {
      "image/png": "[encoded data removed]",
      "text/plain": [
       "<Figure size 1200x500 with 2 Axes>"
      ]
     },
     "metadata": {},
     "output_type": "display_data"
    }
   ],
   "source": [
    "import matplotlib.pyplot as plt\n",
    "import seaborn as sns\n",
    "\n",
    "plt.figure(figsize=(12,5))\n",
    "\n",
    "# 상자수염 그림(Boxplot)\n",
    "plt.subplot(1,2,1)\n",
    "sns.boxplot(x='IsWeekend', y='UnitPrice', data=df)\n",
    "plt.title('UnitPrice by Weekday vs Weekend')\n",
    "plt.ylim(0, df['UnitPrice'].quantile(0.95))  # 극단치 제외하고 보기\n",
    "\n",
    "# 히스토그램\n",
    "plt.subplot(1,2,2)\n",
    "sns.histplot(df[df['IsWeekend']=='Weekday']['UnitPrice'], color='skyblue', label='Weekday', kde=True, bins=50)\n",
    "sns.histplot(df[df['IsWeekend']=='Weekend']['UnitPrice'], color='orange', label='Weekend', kde=True, bins=50)\n",
    "plt.title('Distribution of UnitPrice')\n",
    "plt.xlabel('UnitPrice')\n",
    "plt.legend()\n",
    "\n",
    "plt.tight_layout()\n",
    "plt.show()"
   ]
  },
  {
   "cell_type": "markdown",
   "id": "66753df2",
   "metadata": {},
   "source": [
    "상자수염 그림 분석\n",
    "- 중앙값 기준으로 보면 주중과 주말의 단가 차이는 크지 않음\n",
    "- 사분위 범위를 봤을 때 주중과 주말 모두 1~4정도의 범위를 가짐\n",
    "- 극단치(이상치)는 두 그룹 모두 상단에 다수 존재함 이를 통해 일부 주문 단가가 매우 높음을 알 수 있음"
   ]
  },
  {
   "cell_type": "markdown",
   "id": "fee1d94a",
   "metadata": {},
   "source": [
    "히스토그램 분석\n",
    "- 주중과 주말 모두 0~10 단가 구간에 대부분 데이터 집중\n",
    "- 극단치 때문에 y축 범위가 크게 잡혀 있음\n",
    "- 분포가 오른쪽으로 꼬리가 긴 형태 → 왜도가 존재\n",
    "- 전체적으로 패턴은 유사하지만, 주말 데이터는 약간 더 오른쪽 꼬리 길이 차이가 있음"
   ]
  },
  {
   "cell_type": "markdown",
   "id": "a4ab7fcc",
   "metadata": {},
   "source": [
    "\n",
    "\n"
   ]
  },
  {
   "cell_type": "markdown",
   "id": "769ff98c",
   "metadata": {},
   "source": [
    "문제4. 상품의 단가와 판매 국가, 판매 날짜을 이용해 판매 수량을 예측하는 회귀 모델을 만드세요.\n",
    "\n",
    "4-1 필요한 데이터를 정리하고 결측치와 이상치를 제거해주세요."
   ]
  },
  {
   "cell_type": "code",
   "execution_count": 23,
   "id": "727ffd3d",
   "metadata": {},
   "outputs": [
    {
     "name": "stdout",
     "output_type": "stream",
     "text": [
      "Quantity        0\n",
      "UnitPrice       0\n",
      "Country         0\n",
      "DayOfWeek       0\n",
      "InvoiceMonth    0\n",
      "dtype: int64\n"
     ]
    }
   ],
   "source": [
    "# 필요한 컬럼 선택\n",
    "data = df[['Quantity', 'UnitPrice', 'Country', 'DayOfWeek', 'InvoiceMonth']].copy()\n",
    "\n",
    "# 결측치 확인\n",
    "print(data.isnull().sum())\n",
    "\n",
    "# 결측치 제거\n",
    "data.dropna(inplace=True)\n",
    "\n",
    "# 이상치 제거: Quantity와 UnitPrice는 음수일 수 없음\n",
    "data = data[(data['Quantity'] > 0) & (data['UnitPrice'] > 0)]"
   ]
  },
  {
   "cell_type": "code",
   "execution_count": 24,
   "id": "4623e03c",
   "metadata": {},
   "outputs": [],
   "source": [
    "#범주형 변수 인코딩\n",
    "data = pd.get_dummies(data, columns=['Country'], drop_first=True)"
   ]
  },
  {
   "cell_type": "markdown",
   "id": "69435eb9",
   "metadata": {},
   "source": [
    "4-2 변수를 다음과 같이 설정하여 다중 선형 회귀 분석을 진행하세요.\n",
    " - 종속변수: 판매 수량(Quantity)\n",
    " - 독립변수: 상품 단가(UnitPrice), 판매 국가(Country), 판매 요일(DayOfWeek), 판매 월( InvoiceMonth)"
   ]
  },
  {
   "cell_type": "code",
   "execution_count": 29,
   "id": "e2bf5b91",
   "metadata": {},
   "outputs": [
    {
     "name": "stdout",
     "output_type": "stream",
     "text": [
      "회귀계수:\n",
      "UnitPrice                       -0.014375\n",
      "DayOfWeek                       -0.178656\n",
      "InvoiceMonth                    -0.044597\n",
      "Country_Austria                -59.483298\n",
      "Country_Bahrain                -54.567395\n",
      "Country_Belgium                -59.185711\n",
      "Country_Brazil                 -58.536289\n",
      "Country_Canada                 -51.505847\n",
      "Country_Channel Islands        -58.595094\n",
      "Country_Cyprus                 -61.126291\n",
      "Country_Czech Republic         -44.852487\n",
      "Country_Denmark                -49.013274\n",
      "Country_EIRE                   -51.919574\n",
      "Country_European Community     -62.864346\n",
      "Country_Finland                -55.746983\n",
      "Country_France                 -57.450354\n",
      "Country_Germany                -57.555536\n",
      "Country_Greece                 -60.574320\n",
      "Country_Hong Kong              -53.580255\n",
      "Country_Iceland                -57.058034\n",
      "Country_Israel                 -55.117057\n",
      "Country_Italy                  -60.246315\n",
      "Country_Japan                   11.538318\n",
      "Country_Lebanon                -61.830851\n",
      "Country_Lithuania              -51.006647\n",
      "Country_Malta                  -62.075944\n",
      "Country_Netherlands             14.352894\n",
      "Country_Norway                 -52.898578\n",
      "Country_Poland                 -59.782932\n",
      "Country_Portugal               -59.986950\n",
      "Country_RSA                    -64.162635\n",
      "Country_Saudi Arabia           -60.883714\n",
      "Country_Singapore              -46.290157\n",
      "Country_Spain                  -59.546300\n",
      "Country_Sweden                   9.239044\n",
      "Country_Switzerland            -55.091252\n",
      "Country_USA                    -57.287562\n",
      "Country_United Arab Emirates   -57.296580\n",
      "Country_United Kingdom         -61.024083\n",
      "Country_Unspecified            -63.007027\n",
      "dtype: float64\n",
      "\n",
      "결정계수(R^2): 0.0277\n"
     ]
    }
   ],
   "source": [
    "from sklearn.model_selection import train_test_split\n",
    "from sklearn.linear_model import LinearRegression\n",
    "from sklearn.metrics import r2_score\n",
    "\n",
    "X = data.drop('Quantity', axis=1)\n",
    "y = data['Quantity']\n",
    "\n",
    "X_train, X_test, y_train, y_test = train_test_split(X, y, test_size=0.2, random_state=42)\n",
    "\n",
    "model = LinearRegression()\n",
    "model.fit(X_train, y_train)\n",
    "y_pred = model.predict(X_test)\n",
    "\n",
    "coefficients = pd.Series(model.coef_, index=X.columns)\n",
    "r2 = r2_score(y_test, y_pred)\n",
    "\n",
    "print(\"회귀계수:\")\n",
    "print(coefficients)\n",
    "print(f\"\\n결정계수(R^2): {r2:.4f}\")"
   ]
  },
  {
   "cell_type": "code",
   "execution_count": 30,
   "id": "d416313f",
   "metadata": {},
   "outputs": [
    {
     "name": "stderr",
     "output_type": "stream",
     "text": [
      "C:\\Users\\82107\\anaconda3\\lib\\site-packages\\IPython\\core\\pylabtools.py:151: UserWarning: Glyph 49892 (\\N{HANGUL SYLLABLE SIL}) missing from current font.\n",
      "  fig.canvas.print_figure(bytes_io, **kw)\n",
      "C:\\Users\\82107\\anaconda3\\lib\\site-packages\\IPython\\core\\pylabtools.py:151: UserWarning: Glyph 51228 (\\N{HANGUL SYLLABLE JE}) missing from current font.\n",
      "  fig.canvas.print_figure(bytes_io, **kw)\n",
      "C:\\Users\\82107\\anaconda3\\lib\\site-packages\\IPython\\core\\pylabtools.py:151: UserWarning: Glyph 54032 (\\N{HANGUL SYLLABLE PAN}) missing from current font.\n",
      "  fig.canvas.print_figure(bytes_io, **kw)\n",
      "C:\\Users\\82107\\anaconda3\\lib\\site-packages\\IPython\\core\\pylabtools.py:151: UserWarning: Glyph 47588 (\\N{HANGUL SYLLABLE MAE}) missing from current font.\n",
      "  fig.canvas.print_figure(bytes_io, **kw)\n",
      "C:\\Users\\82107\\anaconda3\\lib\\site-packages\\IPython\\core\\pylabtools.py:151: UserWarning: Glyph 49688 (\\N{HANGUL SYLLABLE SU}) missing from current font.\n",
      "  fig.canvas.print_figure(bytes_io, **kw)\n",
      "C:\\Users\\82107\\anaconda3\\lib\\site-packages\\IPython\\core\\pylabtools.py:151: UserWarning: Glyph 47049 (\\N{HANGUL SYLLABLE RYANG}) missing from current font.\n",
      "  fig.canvas.print_figure(bytes_io, **kw)\n",
      "C:\\Users\\82107\\anaconda3\\lib\\site-packages\\IPython\\core\\pylabtools.py:151: UserWarning: Glyph 50696 (\\N{HANGUL SYLLABLE YE}) missing from current font.\n",
      "  fig.canvas.print_figure(bytes_io, **kw)\n",
      "C:\\Users\\82107\\anaconda3\\lib\\site-packages\\IPython\\core\\pylabtools.py:151: UserWarning: Glyph 52769 (\\N{HANGUL SYLLABLE CEUG}) missing from current font.\n",
      "  fig.canvas.print_figure(bytes_io, **kw)\n"
     ]
    },
    {
     "data": {
      "image/png": "[encoded data removed]",
      "text/plain": [
       "<Figure size 1000x600 with 1 Axes>"
      ]
     },
     "metadata": {},
     "output_type": "display_data"
    }
   ],
   "source": [
    "plt.figure(figsize=(10,6))\n",
    "plt.scatter(y_test, y_pred, alpha=0.5)\n",
    "plt.xlabel(\"실제 Quantity\")\n",
    "plt.ylabel(\"예측 Quantity\")\n",
    "plt.title(\"실제 판매 수량 vs 예측 판매 수량\")\n",
    "plt.plot([y_test.min(), y_test.max()], [y_test.min(), y_test.max()], 'r--')\n",
    "plt.show()"
   ]
  },
  {
   "cell_type": "markdown",
   "id": "8949ad00",
   "metadata": {},
   "source": [
    "4-3 회귀계수와 결정계수를 활용하여 회귀 분석 결과를 해석해주세요."
   ]
  },
  {
   "cell_type": "markdown",
   "id": "45820fc8",
   "metadata": {},
   "source": [
    "1. 회귀계수 \n",
    "\n",
    "      1) 연속형 변수\n",
    "    \n",
    "            - UnitPrice, DayOfWeek, InvoiceMonth 등 대체로 값이 음수를 띔, 각 단위가 1 상승하면 오히려 값은 감소하는 경향이 있음. 대부분 소폭 감소하기 때문에 영향은 작거나 미미함\n",
    "    \n",
    "      2) 범주형 변수 (Country)\n",
    "    \n",
    "            - 대부분의 국가 계수는 음수, 즉 기준 국가 대비 판매량이 낮음\n",
    "            - 예외로는 Japan, Netherlands, Sweden 이 세 국가(양수)는 기준 국가보다 판매량이 많음"
   ]
  },
  {
   "cell_type": "markdown",
   "id": "3661fa93",
   "metadata": {},
   "source": [
    "2. 결정계수\n",
    "- 결정계수(R^2): 0.0277 (약 2.8%)\n",
    "- 모델이 전체 판매 수량 변동의 약 2.8%만 설명함\n",
    "- 즉, 단가(UnitPrice), 요일(DayOfWeek), 월(InvoiceMonth), 국가(Country)만으로는 판매량을 충분히 설명할 수 없음\n",
    "- 다른요인이 판매 수량에 큰 영향을 미칠 가능성이 높음"
   ]
  },
  {
   "cell_type": "markdown",
   "id": "8a553943",
   "metadata": {},
   "source": [
    "3. 종합 해석\n",
    "\n",
    "    1) 판매량에 가장 큰 영향 요인은 국가\n",
    "        - 일본, 네덜란드, 스웨덴은 상대적으로 판매량이 많음\n",
    "        - 대부분 다른 국가에서는 판매량이 기준 국가보다 낮음\n",
    "    2) 단가, 요일, 월은 영향 미미\n",
    "        - 단가 상승 시 판매량이 약간 줄어들지만 실제 영향은 거의 없음\n",
    "    3) 모델 성능이 낮음\n",
    "        - R²가 매우 낮으므로, 추가적인 변수를 고려하거나 다른 모델로 성능 향상 필요"
   ]
  },
  {
   "cell_type": "markdown",
   "id": "cdcee764",
   "metadata": {},
   "source": [
    "\n",
    "\n"
   ]
  },
  {
   "cell_type": "markdown",
   "id": "52ed599e",
   "metadata": {},
   "source": [
    "문제5. 상품 정보와 거래 정보를 바탕으로 해당 거래가 반품될 가능성을 예측하는 로지스틱 회귀 모델을 만드세요.\n"
   ]
  },
  {
   "cell_type": "markdown",
   "id": "8911f955",
   "metadata": {},
   "source": [
    "5-1 필요한 데이터를 정리하고 결측치와 이상치를 제거해주세요."
   ]
  },
  {
   "cell_type": "code",
   "execution_count": 33,
   "id": "022e7395",
   "metadata": {},
   "outputs": [],
   "source": [
    "import pandas as pd\n",
    "import numpy as np\n",
    "\n",
    "# 필요한 컬럼 선택\n",
    "data = df[['Quantity', 'UnitPrice', 'Country', 'DayOfWeek', 'InvoiceMonth']].copy()\n",
    "\n",
    "# 결측치 제거\n",
    "data.dropna(inplace=True)\n",
    "\n",
    "# 이상치 제거\n",
    "data = data[(data['UnitPrice'] > 0)]  # UnitPrice 음수 제거\n"
   ]
  },
  {
   "cell_type": "markdown",
   "id": "2ebc89f7",
   "metadata": {},
   "source": [
    "5-2 Quantity 피쳐를 활용해 IsReturn 피쳐를 생성하세요."
   ]
  },
  {
   "cell_type": "code",
   "execution_count": 34,
   "id": "92f666aa",
   "metadata": {},
   "outputs": [],
   "source": [
    "data['IsReturn'] = np.where(data['Quantity'] < 0, 1, 0)"
   ]
  },
  {
   "cell_type": "code",
   "execution_count": 35,
   "id": "f26ef695",
   "metadata": {},
   "outputs": [
    {
     "name": "stdout",
     "output_type": "stream",
     "text": [
      "0    530104\n",
      "1      9288\n",
      "Name: IsReturn, dtype: int64\n"
     ]
    }
   ],
   "source": [
    "print(data['IsReturn'].value_counts())"
   ]
  },
  {
   "cell_type": "markdown",
   "id": "48b166d4",
   "metadata": {},
   "source": [
    "5-3 모델 학습에 사용할 적절한 피쳐를 선정하세요."
   ]
  },
  {
   "cell_type": "code",
   "execution_count": 36,
   "id": "dd86bc80",
   "metadata": {},
   "outputs": [],
   "source": [
    "data = pd.get_dummies(data, columns=['Country'], drop_first=True)\n",
    "X = data.drop(['Quantity', 'IsReturn'], axis=1)\n",
    "y = data['IsReturn']"
   ]
  },
  {
   "cell_type": "markdown",
   "id": "2311f7ee",
   "metadata": {},
   "source": [
    "5-4 모델 학습과 검증을 위해 데이터셋을 train셋과 test셋으로 나누세요."
   ]
  },
  {
   "cell_type": "code",
   "execution_count": 38,
   "id": "6e4ad5a9",
   "metadata": {},
   "outputs": [],
   "source": [
    "from sklearn.model_selection import train_test_split\n",
    "\n",
    "X_train, X_test, y_train, y_test = train_test_split(\n",
    "    X, y, test_size=0.2, random_state=42, stratify=y)"
   ]
  },
  {
   "cell_type": "markdown",
   "id": "e9b493b0",
   "metadata": {},
   "source": [
    "5-5 IsReturn을 예측하는 로지스틱 회귀 모델을 학습하세요."
   ]
  },
  {
   "cell_type": "code",
   "execution_count": 39,
   "id": "af47d40a",
   "metadata": {},
   "outputs": [],
   "source": [
    "from sklearn.linear_model import LogisticRegression\n",
    "\n",
    "model = LogisticRegression(max_iter=1000, solver='liblinear')\n",
    "model.fit(X_train, y_train)\n",
    "y_pred = model.predict(X_test)\n",
    "y_proba = model.predict_proba(X_test)[:,1]"
   ]
  },
  {
   "cell_type": "markdown",
   "id": "f71a55e3",
   "metadata": {},
   "source": [
    "5-6 혼동행렬, 정밀도, 재현율, F1-score 등 다양한 평가지표를 사용하여 모델의 성능을 평가하세요."
   ]
  },
  {
   "cell_type": "code",
   "execution_count": 40,
   "id": "e48c55c0",
   "metadata": {
    "scrolled": false
   },
   "outputs": [
    {
     "name": "stdout",
     "output_type": "stream",
     "text": [
      "혼동행렬:\n",
      "[[106005     16]\n",
      " [  1847     11]]\n",
      "\n",
      "Classification Report:\n",
      "              precision    recall  f1-score   support\n",
      "\n",
      "           0       0.98      1.00      0.99    106021\n",
      "           1       0.41      0.01      0.01      1858\n",
      "\n",
      "    accuracy                           0.98    107879\n",
      "   macro avg       0.70      0.50      0.50    107879\n",
      "weighted avg       0.97      0.98      0.97    107879\n",
      "\n",
      "ROC-AUC: 0.5602\n"
     ]
    },
    {
     "data": {
      "text/plain": [
       "<sklearn.metrics._plot.roc_curve.RocCurveDisplay at 0x29d45829490>"
      ]
     },
     "execution_count": 40,
     "metadata": {},
     "output_type": "execute_result"
    },
    {
     "data": {
      "image/png": "[encoded data removed]",
      "text/plain": [
       "<Figure size 640x480 with 1 Axes>"
      ]
     },
     "metadata": {},
     "output_type": "display_data"
    }
   ],
   "source": [
    "from sklearn.metrics import confusion_matrix, classification_report, roc_auc_score, RocCurveDisplay\n",
    "\n",
    "# 혼동행렬\n",
    "cm = confusion_matrix(y_test, y_pred)\n",
    "print(\"혼동행렬:\")\n",
    "print(cm)\n",
    "\n",
    "# 정밀도, 재현율, F1-score\n",
    "print(\"\\nClassification Report:\")\n",
    "print(classification_report(y_test, y_pred))\n",
    "\n",
    "# ROC-AUC\n",
    "roc_auc = roc_auc_score(y_test, y_proba)\n",
    "print(f\"ROC-AUC: {roc_auc:.4f}\")\n",
    "\n",
    "# ROC 커브 시각화\n",
    "RocCurveDisplay.from_estimator(model, X_test, y_test)"
   ]
  },
  {
   "cell_type": "markdown",
   "id": "7fd6c796",
   "metadata": {},
   "source": [
    "ROC-AUC = 0.5602\n",
    "\n",
    "0.5 → 랜덤 예측 수준\n",
    "0.56 → 모델이 반품 여부를 구분하는 능력이 거의 없음\n",
    "\n",
    "즉, 현재 피쳐와 모델로는 반품 예측이 거의 불가능함\n",
    "\n",
    " - 종합 해석\n",
    "\n",
    "1) 모델은 정상 거래는 잘 맞추지만, 반품 거래를 거의 못 잡음\n",
    "\n",
    "2) Accuracy가 높지만 불균형 데이터 때문에 실제 성능은 매우 낮음\n",
    "\n",
    "3) ROC-AUC도 낮음 → 현재 로지스틱 회귀와 피쳐만으로는 반품 예측이 거의 불가능"
   ]
  },
  {
   "cell_type": "markdown",
   "id": "9f9a3a09",
   "metadata": {},
   "source": [
    "5-7 모델의 성능을 더 높일 수 있는 방안에 대해서 고민해보세요."
   ]
  },
  {
   "cell_type": "markdown",
   "id": "90060c32",
   "metadata": {},
   "source": [
    "1. 불균형 데이터 처리\n",
    "\n",
    "    - 반품 데이터가 적다면 SMOTE, ADASYN 등 오버샘플링 적용\n",
    "\n",
    "    - 클래스 가중치 조정(class_weight='balanced')\n",
    "      → 반품 예측 비율 향상\n",
    "\n",
    "2. 피쳐 엔지니어링\n",
    "\n",
    "    - Quantity 절대값, TotalPrice, InvoiceHour, 상품 카테고리 추가\n",
    "    - 이전 구매/반품 히스토리 반영\n",
    "\n",
    "3. 다른 모델 시도\n",
    "\n",
    "    - 트리 기반 모델(RandomForest, XGBoost, LightGBM) 사용\n",
    "      → 비선형 관계 포착 가능 → 성능 향상 기대\n",
    "\n",
    "4. 임계값 조정\n",
    "\n",
    "    - 예측 확률 기준(threshold) 변경 → 재현율 향상 가능\n",
    "    \n",
    "5. 하이퍼파라미터 튜닝\n",
    "\n",
    "    - LogisticRegression: 정규화(C), penalty\n",
    "\n",
    "    - 트리 계열 모델: depth, n_estimators 등"
   ]
  }
 ],
 "metadata": {
  "kernelspec": {
   "display_name": "Python 3 (ipykernel)",
   "language": "python",
   "name": "python3"
  },
  "language_info": {
   "codemirror_mode": {
    "name": "ipython",
    "version": 3
   },
   "file_extension": ".py",
   "mimetype": "text/x-python",
   "name": "python",
   "nbconvert_exporter": "python",
   "pygments_lexer": "ipython3",
   "version": "3.9.13"
  }
 },
 "nbformat": 4,
 "nbformat_minor": 5
}
