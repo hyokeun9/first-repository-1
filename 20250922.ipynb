{
  "nbformat": 4,
  "nbformat_minor": 0,
  "metadata": {
    "colab": {
      "private_outputs": true,
      "provenance": [],
      "include_colab_link": true
    },
    "kernelspec": {
      "name": "python3",
      "display_name": "Python 3"
    },
    "language_info": {
      "name": "python"
    }
  },
  "cells": [
    {
      "cell_type": "markdown",
      "metadata": {
        "id": "view-in-github",
        "colab_type": "text"
      },
      "source": [
        "<a href=\"https://colab.research.google.com/github/peony1217-ctrl/first-repository/blob/main/20250922.ipynb\" target=\"_parent\"><img src=\"https://colab.research.google.com/assets/colab-badge.svg\" alt=\"Open In Colab\"/></a>"
      ]
    },
    {
      "cell_type": "markdown",
      "source": [
        "## 파이썬 둘째날 페어 프로그래밍 20250922월\n",
        "### 이기화 소현진\n",
        "\n",
        "##### quest 1 : 숫자 야구 만들기\n",
        "\n",
        "#####숫자 야구 : 숨겨진 정답 숫자를 맞히는 게임\n",
        "\n",
        "#####사용자가 제시한 숫자 중 정답 숫자와 숫자만 일치하는 경우에는 ball, 숫자와 위치까지 일치하는 경우에는 strike를 출력하는 프로그램을 만들어보세요\n",
        "\n",
        "#####조건\n",
        "##### - 프로그램이 시작할 때 서로 다른 5개의 정답 숫자를 초기화합니다.\n",
        "##### - 사용자에게 5자리 숫자를 입력 받습니다.\n",
        "##### -정답 숫자와 입력 숫자를비교해서 ball과 strike를 출력합니다.\n",
        "\n"
      ],
      "metadata": {
        "id": "fv-eIyOE-ngR"
      }
    },
    {
      "cell_type": "code",
      "execution_count": null,
      "metadata": {
        "id": "M7U_NG3--Ma2"
      },
      "outputs": [],
      "source": [
        "# 이기화 소현진 quest1 : 숫자 야구 만들기\n",
        "import random\n",
        "\n",
        "# 1. 정답 초기화 (중복 없음)\n",
        "answer = random.sample(range(0, 10), 5)\n",
        "\n",
        "# 2. 게임 open\n",
        "print(\"===== 숫자 야구 게임 =====\")\n",
        "print(\"서로 다른 5자리 숫자를 맞혀보세요!\")\n",
        "print(\" 기회는 10번입니다.\")\n",
        "\n",
        "# 3. 시도 횟수 변수\n",
        "attempts = 0\n",
        "\n",
        "while attempts < 10:\n",
        "    attempts += 1\n",
        "    print(f\"\\n[{attempts}번째 시도]\")\n",
        "    user_input = input(\"5자리 숫자 입력: \")\n",
        "\n",
        "# 4. 유효성 검사\n",
        "    if len(user_input) != 5 or not user_input.isdigit():\n",
        "        print(\"★ 5자리 숫자를 입력해야 합니다.\")\n",
        "        continue\n",
        "\n",
        "    guess = [int(d) for d in user_input]\n",
        "\n",
        "    if len(set(guess)) != 5:\n",
        "        print(\"★ 중복 없는 숫자를 입력해야 합니다.\")\n",
        "        continue\n",
        "\n",
        "# 5. strike, ball 계산\n",
        "    strike = 0\n",
        "    ball = 0\n",
        "\n",
        "    for i in range(5):\n",
        "        if guess[i] == answer[i]:\n",
        "            strike += 1\n",
        "        elif guess[i] in answer:\n",
        "            ball += 1\n",
        "\n",
        "# 결과 출력\n",
        "    print(f\"{strike} Strike, {ball} Ball\")\n",
        "\n",
        "# 정답 확인\n",
        "    if strike == 5:\n",
        "        print(\"(^O^) 정답입니다람쥐~.\")\n",
        "        break\n",
        "else:\n",
        "    print(\"\\n(_ㅠㅠ_)  10번의 기회가 끝났습니다. 정답은\", \"\".join(map(str, answer)), \"였습니다!\")"
      ]
    },
    {
      "cell_type": "code",
      "source": [],
      "metadata": {
        "id": "FRAroZxQBull"
      },
      "execution_count": null,
      "outputs": []
    }
  ]
}